{
 "cells": [
  {
   "cell_type": "markdown",
   "id": "774bf805-889a-4ae0-ae7a-a3485ef66e98",
   "metadata": {},
   "source": [
    "# SOCAT KPI Plots\n",
    "This notebook allows you to generate various plots from the SOCAT data for KPI information.\n",
    "\n",
    "- Begin by running the `Setup and connect to database` cell.\n",
    "- Select the region of your choice. You will see a map of the region.\n",
    "- Scroll through the remaining cells to generate plots.\n",
    "\n",
    "**Prerequisites**\n",
    "The notebooks `import_socat` and `import_regions` must be run before this notebook."
   ]
  },
  {
   "cell_type": "markdown",
   "id": "7843c20c-e2f1-4987-a9c8-a354070f4eb8",
   "metadata": {},
   "source": [
    "## Setup and connect to database"
   ]
  },
  {
   "cell_type": "code",
   "execution_count": 148,
   "id": "d3980b32-d927-4f68-b60d-82f6c5d0ce29",
   "metadata": {},
   "outputs": [],
   "source": [
    "import psycopg2\n",
    "from ipywidgets import interact, interactive_output, fixed, HBox, VBox, Label\n",
    "import ipywidgets as widgets\n",
    "from shapely import wkb\n",
    "import geopandas as gpd\n",
    "from matplotlib import pyplot as plt\n",
    "from datetime import datetime\n",
    "import numpy as np\n",
    "\n",
    "DB_HOST = 'localhost'\n",
    "DB_USER = 'postgres'\n",
    "DB_PASSWORD = 'postgres'\n",
    "DB_NAME = 'socat_kpi'\n",
    "\n",
    "conn = psycopg2.connect(database = DB_NAME, \n",
    "                        user = DB_USER, \n",
    "                        host= DB_HOST,\n",
    "                        password = DB_PASSWORD)\n",
    "\n",
    "cur = conn.cursor()\n",
    "\n",
    "cur.execute('SELECT MIN(year) FROM socat')\n",
    "for record in cur:\n",
    "    min_year = record[0]\n",
    "\n",
    "cur.execute('SELECT MAX(year) FROM socat')\n",
    "for record in cur:\n",
    "    max_year = record[0] - 1\n"
   ]
  },
  {
   "cell_type": "markdown",
   "id": "1acabf01-78f6-4b22-966e-aa05d64f3ba9",
   "metadata": {},
   "source": [
    "# Select Region\n",
    "Select the region that you're interested in exploring."
   ]
  },
  {
   "cell_type": "code",
   "execution_count": 149,
   "id": "d64f9052-2b9a-479e-b29c-feccd185b3a2",
   "metadata": {},
   "outputs": [
    {
     "data": {
      "application/vnd.jupyter.widget-view+json": {
       "model_id": "a091c5899d5b4e14846d2157cc4b324a",
       "version_major": 2,
       "version_minor": 0
      },
      "text/plain": [
       "interactive(children=(Dropdown(description='Region:', options=(('CCAMLR: Division 58.4.1', 19), ('CCAMLR: Divi…"
      ]
     },
     "metadata": {},
     "output_type": "display_data"
    }
   ],
   "source": [
    "def load_region(region_id):\n",
    "    cur.execute(f'SELECT shape FROM regions WHERE id = {region.value}')\n",
    "    geom = wkb.loads(cur.fetchone()[0], hex=False)\n",
    "    gdf = gpd.GeoDataFrame([{'id': region.value, 'geometry': geom}], geometry='geometry', crs='EPSG:4326')\n",
    "    coastlines = gpd.read_file('shapes/coastline/GSHHS_i_L1.shp')\n",
    "    \n",
    "    minx, miny, maxx, maxy = gdf.total_bounds\n",
    "    padding_x = (maxx - minx) * 0.2  # 20% padding\n",
    "    padding_y = (maxy - miny) * 0.2\n",
    "    \n",
    "    xlim = (minx - padding_x, maxx + padding_x)\n",
    "    ylim = (miny - padding_y, maxy + padding_y)\n",
    "    \n",
    "    \n",
    "    fig, ax = plt.subplots(figsize=(12, 6))\n",
    "    coastlines.plot(ax=ax, color='lightgray', linewidth=0.5)\n",
    "    gdf.plot(ax=ax, color='lightblue', alpha=0.4, edgecolor='black')  # your polygon from PostGIS\n",
    "    ax.set_xlim(xlim)\n",
    "    ax.set_ylim(ylim)\n",
    "    plt.title(region.label)\n",
    "    plt.show()\n",
    "\n",
    "menu_options = []\n",
    "\n",
    "cur.execute(\"SELECT id, source, name FROM regions ORDER BY source, name\")\n",
    "for record in cur:\n",
    "    menu_options.append((f'{record[1]}: {record[2]}', record[0]))\n",
    "\n",
    "region = widgets.Dropdown(\n",
    "    options=menu_options,\n",
    "    description='Region:',\n",
    ")\n",
    "\n",
    "interact(load_region, region_id=region);"
   ]
  },
  {
   "cell_type": "markdown",
   "id": "6bcff951-06a0-48dd-a50f-f09a1d330ded",
   "metadata": {},
   "source": [
    "# Make Plots\n",
    "Each cell below will generate plots for a given metric. Some come with options you can adjust."
   ]
  },
  {
   "cell_type": "markdown",
   "id": "b0ab965c-6c06-475f-a453-909f2707dcab",
   "metadata": {},
   "source": [
    "## Observation Days Per Year\n",
    "Shows the number of days with observations in each year.\n",
    "\n",
    "This can be shown as an absolute value, or relative to the mean of a reference period.\n",
    "\n",
    "Run the first cell to retrieve the data from the database. Use the second cell to plot it using the interactive controls."
   ]
  },
  {
   "cell_type": "code",
   "execution_count": 150,
   "id": "877b1d79-c237-428b-9a71-79a1c57c8415",
   "metadata": {},
   "outputs": [
    {
     "name": "stdout",
     "output_type": "stream",
     "text": [
      "Retrieving data...\n",
      "Done\n"
     ]
    }
   ],
   "source": [
    "print(\"Retrieving data...\")\n",
    "cur.execute(f'SELECT s.year, COUNT(DISTINCT(s.month_day)) FROM socat s INNER JOIN regions r ON s.position && r.shape AND ST_Intersects(s.position, r.shape) WHERE r.id = {region.value} GROUP BY s.year ORDER BY s.year')\n",
    "\n",
    "years = []\n",
    "counts = []\n",
    "\n",
    "day_counts = dict()\n",
    "for y in range(min_year, max_year + 1):\n",
    "    day_counts[y] = 0\n",
    "\n",
    "for record in cur:\n",
    "    day_counts[record[0]] = record[1]\n",
    "\n",
    "print(\"Done\")"
   ]
  },
  {
   "cell_type": "code",
   "execution_count": 155,
   "id": "58bde9a3-310a-466b-baf3-f5e2ca583b71",
   "metadata": {},
   "outputs": [
    {
     "data": {
      "application/vnd.jupyter.widget-view+json": {
       "model_id": "ae5ba5411e964e10ae39db9d3961928f",
       "version_major": 2,
       "version_minor": 0
      },
      "text/plain": [
       "VBox(children=(Checkbox(value=False, description='Relative to reference period', indent=False), HBox(children=…"
      ]
     },
     "metadata": {},
     "output_type": "display_data"
    },
    {
     "data": {
      "application/vnd.jupyter.widget-view+json": {
       "model_id": "8b5ab0fd202b44fe9ad15498cbcb27c8",
       "version_major": 2,
       "version_minor": 0
      },
      "text/plain": [
       "Output()"
      ]
     },
     "metadata": {},
     "output_type": "display_data"
    }
   ],
   "source": [
    "def days_per_year(use_reference, reference_start, reference_end, plot_min):\n",
    "\n",
    "    reference_value = 0\n",
    "    if use_reference:\n",
    "        reference_value = np.mean([v for k, v in day_counts.items() if reference_start <= k <= reference_end])\n",
    "    \n",
    "    plot_counts = {key: value - reference_value for key, value in day_counts.items()}\n",
    "    \n",
    "    plt.bar(plot_counts.keys(), plot_counts.values())\n",
    "    plt.xlabel('Year')\n",
    "    \n",
    "    if use_reference:\n",
    "        plt.ylabel(f'Number of days relative to {reference_start}-{reference_end} mean')\n",
    "    else:\n",
    "        plt.ylabel('Number of Days')\n",
    "    \n",
    "    if not use_reference:\n",
    "        plt.ylim((0, 366))\n",
    "    else:\n",
    "        plt.ylim((-365, 365))\n",
    "\n",
    "\n",
    "    plt.xlim(plot_min - 1, max_year + 1)\n",
    "    \n",
    "    plt.title(f'{region.label} \\n Days with observations in each year')\n",
    "    plt.show()\n",
    "\n",
    "\n",
    "plot_min = next((k for k, v in day_counts.items() if v > 0), None)\n",
    "\n",
    "relative_checkbox = widgets.Checkbox(value=False, description='Relative to reference period', indent=False)\n",
    "start_slider = widgets.IntSlider(min=1995, max=datetime.now().year - 1, step=1, value=2015)\n",
    "end_slider = widgets.IntSlider(min=1995, max=datetime.now().year - 1, step=1, value=2019)\n",
    "\n",
    "vbox1 = VBox([\n",
    "    relative_checkbox,\n",
    "    HBox([Label('Reference period start'), start_slider]),\n",
    "    HBox([Label('Reference period end'), end_slider]),\n",
    "])\n",
    "display(vbox1)\n",
    "\n",
    "w = interactive_output(days_per_year, {\"use_reference\": relative_checkbox, \"reference_start\": start_slider, \"reference_end\": end_slider, \"plot_min\": fixed(plot_min)})\n",
    "display(w)"
   ]
  },
  {
   "cell_type": "code",
   "execution_count": 153,
   "id": "af4b84e0-82f2-42f4-8de4-a6930368043f",
   "metadata": {},
   "outputs": [
    {
     "data": {
      "image/png": "[encoded data removed]",
      "text/plain": [
       "<Figure size 640x480 with 1 Axes>"
      ]
     },
     "metadata": {},
     "output_type": "display_data"
    }
   ],
   "source": [
    "cur.execute(f\"SELECT s.year, COUNT(DISTINCT(s.platform_code)) FROM socat s INNER JOIN regions r ON s.position && r.shape AND ST_Intersects(s.position, r.shape) WHERE r.id = {region.value} GROUP BY s.year ORDER BY s.year\")\n",
    "\n",
    "years = []\n",
    "counts = []\n",
    "\n",
    "for record in cur:\n",
    "    years.append(record[0])\n",
    "    counts.append(record[1])\n",
    "\n",
    "plt.bar(years, counts, color='orange')\n",
    "plt.xlabel('Year')\n",
    "plt.ylabel('Number of Platforms')\n",
    "plt.title('Active platforms in each year')\n",
    "plt.show()"
   ]
  },
  {
   "cell_type": "markdown",
   "id": "3393ca70-0714-45b3-8937-190808ba7ccd",
   "metadata": {},
   "source": [
    "## Shutdown"
   ]
  },
  {
   "cell_type": "code",
   "execution_count": 154,
   "id": "e90fe840-d637-49ff-9e60-025d1c642c8b",
   "metadata": {},
   "outputs": [],
   "source": [
    "cur.close()\n",
    "conn.close()"
   ]
  },
  {
   "cell_type": "code",
   "execution_count": null,
   "id": "7812f47e-c001-4598-98a1-b99c3e564315",
   "metadata": {},
   "outputs": [],
   "source": []
  }
 ],
 "metadata": {
  "kernelspec": {
   "display_name": "Python 3 (ipykernel)",
   "language": "python",
   "name": "python3"
  },
  "language_info": {
   "codemirror_mode": {
    "name": "ipython",
    "version": 3
   },
   "file_extension": ".py",
   "mimetype": "text/x-python",
   "name": "python",
   "nbconvert_exporter": "python",
   "pygments_lexer": "ipython3",
   "version": "3.12.3"
  }
 },
 "nbformat": 4,
 "nbformat_minor": 5
}
