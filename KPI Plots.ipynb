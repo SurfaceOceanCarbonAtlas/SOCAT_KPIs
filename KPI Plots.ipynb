{
 "cells": [
  {
   "cell_type": "markdown",
   "id": "774bf805-889a-4ae0-ae7a-a3485ef66e98",
   "metadata": {},
   "source": [
    "# SOCAT KPI Plots\n",
    "This notebook allows you to generate various plots from the SOCAT data for KPI information.\n",
    "\n",
    "- Begin by running the `Setup and connect to database` cell.\n",
    "- Select the region of your choice. You will see a map of the region.\n",
    "- Scroll through the remaining cells to generate plots.\n",
    "\n",
    "**Prerequisites**\n",
    "The notebooks `import_socat` and `import_regions` must be run before this notebook."
   ]
  },
  {
   "cell_type": "markdown",
   "id": "7843c20c-e2f1-4987-a9c8-a354070f4eb8",
   "metadata": {},
   "source": [
    "## Setup and connect to database"
   ]
  },
  {
   "cell_type": "code",
   "execution_count": 63,
   "id": "d3980b32-d927-4f68-b60d-82f6c5d0ce29",
   "metadata": {},
   "outputs": [],
   "source": [
    "import sqlite3\n",
    "from ipywidgets import interact, interactive, interactive_output, fixed, HBox, VBox, Label\n",
    "import ipywidgets as widgets\n",
    "from shapely import wkb\n",
    "import geopandas as gpd\n",
    "from matplotlib import pyplot as plt\n",
    "import matplotlib\n",
    "from datetime import datetime\n",
    "import numpy as np\n",
    "import pandas as pd\n",
    "\n",
    "# Connect to database\n",
    "DB_FILE = 'socat_kpi.sqlite'\n",
    "conn = sqlite3.connect(DB_FILE)\n",
    "conn.enable_load_extension(True)\n",
    "conn.load_extension(\"mod_spatialite\")\n",
    "\n",
    "# Extract min/max year of SOCAT data\n",
    "cur = conn.cursor()\n",
    "cur.execute('SELECT MIN(year) FROM socat')\n",
    "min_year = cur.fetchone()[0]\n",
    "\n",
    "#cur = conn.cursor()\n",
    "#cur.execute('SELECT MAX(year) FROM socat')\n",
    "#max_year = cur.fetchone()[0]\n",
    "max_year = 2024\n"
   ]
  },
  {
   "cell_type": "markdown",
   "id": "1acabf01-78f6-4b22-966e-aa05d64f3ba9",
   "metadata": {},
   "source": [
    "# Select Region\n",
    "Select the region that you're interested in exploring."
   ]
  },
  {
   "cell_type": "code",
   "execution_count": 64,
   "id": "d64f9052-2b9a-479e-b29c-feccd185b3a2",
   "metadata": {},
   "outputs": [
    {
     "data": {
      "application/vnd.jupyter.widget-view+json": {
       "model_id": "1a69fce921fe4c2685121864719b4da7",
       "version_major": 2,
       "version_minor": 0
      },
      "text/plain": [
       "interactive(children=(Dropdown(description='Region:', options=(('CCAMLR: Division 58.4.1', 19), ('CCAMLR: Divi…"
      ]
     },
     "metadata": {},
     "output_type": "display_data"
    }
   ],
   "source": [
    "def load_region(region_id, mask):\n",
    "\n",
    "    # Get the shape from the database\n",
    "    cur.execute(f'SELECT AsBinary(shape) FROM shapes WHERE id = {region.value}')\n",
    "    geom = wkb.loads(cur.fetchone()[0], hex=False)\n",
    "    gdf = gpd.GeoDataFrame([{'id': region.value, 'geometry': geom}], geometry='geometry', crs='EPSG:4326')\n",
    "\n",
    "    # Apply the mask if necessary\n",
    "    if mask == 0:\n",
    "        print(\"I'm not doing anything\")\n",
    "        masked_shape = gdf.geometry\n",
    "    elif mask == 1:\n",
    "        print(\"Remove coast and continents\")\n",
    "        masked_shape = gdf.geometry\n",
    "    elif mask == 2:\n",
    "        print(\"Coast only\")\n",
    "        masked_shape = gdf.geometry\n",
    "        \n",
    "    coastlines = gpd.read_file('shapes/coastline/GSHHS_i_L1.shp')\n",
    "\n",
    "    # Map display bounds\n",
    "    minx, miny, maxx, maxy = gdf.total_bounds\n",
    "    padding_x = (maxx - minx) * 0.2  # 20% padding\n",
    "    padding_y = (maxy - miny) * 0.2\n",
    "    \n",
    "    xlim = (minx - padding_x, maxx + padding_x)\n",
    "    ylim = (miny - padding_y, maxy + padding_y)\n",
    "\n",
    "    # Display the map\n",
    "    fig, ax = plt.subplots(figsize=(12, 6))\n",
    "    coastlines.plot(ax=ax, color='lightgray', linewidth=0.5)\n",
    "    gdf.plot(ax=ax, color='lightblue', alpha=0.4, edgecolor='black')  # your polygon from PostGIS\n",
    "    ax.set_xlim(xlim)\n",
    "    ax.set_ylim(ylim)\n",
    "    plt.title(region.label)\n",
    "    plt.show()\n",
    "\n",
    "    return sqlite3.Binary(masked_shape.iloc[0].wkb)\n",
    "\n",
    "# Region menu\n",
    "menu_options = []\n",
    "\n",
    "cur.execute(\"SELECT id, source, name FROM shapes WHERE type IN (0, 1) ORDER BY source, name\")\n",
    "for record in cur:\n",
    "    menu_options.append((f'{record[1]}: {record[2]}', record[0]))\n",
    "\n",
    "region = widgets.Dropdown(\n",
    "    options=menu_options,\n",
    "    description='Region:'\n",
    ")\n",
    "\n",
    "# Coastal mask options\n",
    "mask_options = []\n",
    "mask_options.append(('Full Shape', 0))\n",
    "mask_options.append(('Exclude Coast', 1))\n",
    "mask_options.append(('Coast Only', 2))\n",
    "\n",
    "mask = widgets.RadioButtons(\n",
    "    options=mask_options,\n",
    "    description='Mask:'\n",
    ")\n",
    "\n",
    "region_select = interactive(load_region, region_id=region, mask=mask);\n",
    "display(region_select)\n"
   ]
  },
  {
   "cell_type": "markdown",
   "id": "222fe969-463d-45bb-b095-60fdeb077fec",
   "metadata": {},
   "source": [
    "## Prepare region data\n",
    "This cell prepares the selected region for interrogating the SOCAT data."
   ]
  },
  {
   "cell_type": "markdown",
   "id": "6bcff951-06a0-48dd-a50f-f09a1d330ded",
   "metadata": {},
   "source": [
    "# Make Plots\n",
    "Each section below will generate plots for a given metric. Some come with options you can adjust."
   ]
  },
  {
   "cell_type": "markdown",
   "id": "b0ab965c-6c06-475f-a453-909f2707dcab",
   "metadata": {},
   "source": [
    "## Observation Days Per Year\n",
    "Shows the number of days with observations in each year.\n",
    "\n",
    "This can be shown as an absolute value, or relative to the mean of a reference period.\n",
    "\n",
    "Run the first cell to retrieve the data from the database. Use the second cell to plot it using the interactive controls."
   ]
  },
  {
   "cell_type": "code",
   "execution_count": 65,
   "id": "877b1d79-c237-428b-9a71-79a1c57c8415",
   "metadata": {},
   "outputs": [
    {
     "name": "stdout",
     "output_type": "stream",
     "text": [
      "Retrieving data...\n",
      "Done\n"
     ]
    }
   ],
   "source": [
    "print(\"Retrieving data...\")\n",
    "\n",
    "cur.execute(f\"\"\"WITH selected_region AS (\n",
    "  SELECT shape AS region_shape,\n",
    "         MbrMinX(shape) AS xmin,\n",
    "         MbrMinY(shape) AS ymin,\n",
    "         MbrMaxX(shape) AS xmax,\n",
    "         MbrMaxY(shape) AS ymax\n",
    "  FROM shapes\n",
    "  WHERE id = {region.value}\n",
    ")\n",
    "SELECT \n",
    "  s.year,\n",
    "  COUNT(DISTINCT s.month_day)\n",
    "FROM \n",
    "  socat s,\n",
    "  selected_region r\n",
    "WHERE\n",
    "  s.ROWID IN (\n",
    "    SELECT pkid\n",
    "    FROM idx_socat_position\n",
    "    WHERE xmin <= r.xmax\n",
    "      AND xmax >= r.xmin\n",
    "      AND ymin <= r.ymax\n",
    "      AND ymax >= r.ymin\n",
    "  )\n",
    "  AND ST_Intersects(s.position, ?)\n",
    "GROUP BY \n",
    "  s.year\n",
    "ORDER BY \n",
    "  s.year;\n",
    "\"\"\", (region_select.result,))\n",
    "\n",
    "years = []\n",
    "counts = []\n",
    "\n",
    "day_counts = dict()\n",
    "for y in range(min_year, max_year + 1):\n",
    "    day_counts[y] = 0\n",
    "\n",
    "for record in cur.fetchall():\n",
    "    day_counts[record[0]] = record[1]\n",
    "\n",
    "print(\"Done\")"
   ]
  },
  {
   "cell_type": "code",
   "execution_count": 66,
   "id": "58bde9a3-310a-466b-baf3-f5e2ca583b71",
   "metadata": {},
   "outputs": [
    {
     "data": {
      "application/vnd.jupyter.widget-view+json": {
       "model_id": "804d0e03a36941a6943007a395f3eac4",
       "version_major": 2,
       "version_minor": 0
      },
      "text/plain": [
       "VBox(children=(Checkbox(value=False, description='Relative to reference period', indent=False), HBox(children=…"
      ]
     },
     "metadata": {},
     "output_type": "display_data"
    },
    {
     "data": {
      "application/vnd.jupyter.widget-view+json": {
       "model_id": "4672fca7eb1d46deb2c7cfb2fb31a3bc",
       "version_major": 2,
       "version_minor": 0
      },
      "text/plain": [
       "Output()"
      ]
     },
     "metadata": {},
     "output_type": "display_data"
    }
   ],
   "source": [
    "def days_per_year(use_reference, reference_start, reference_end, plot_min):\n",
    "\n",
    "    reference_value = 0\n",
    "    if use_reference:\n",
    "        reference_value = np.mean([v for k, v in day_counts.items() if reference_start <= k <= reference_end])\n",
    "    \n",
    "    plot_counts = {key: value - reference_value for key, value in day_counts.items()}\n",
    "    \n",
    "    plt.bar(plot_counts.keys(), plot_counts.values())\n",
    "    plt.xlabel('Year')\n",
    "    \n",
    "    if use_reference:\n",
    "        plt.ylabel(f'Number of days relative to {reference_start}-{reference_end} mean')\n",
    "    else:\n",
    "        plt.ylabel('Number of Days')\n",
    "    \n",
    "    if not use_reference:\n",
    "        plt.ylim((0, 366))\n",
    "    else:\n",
    "        plt.ylim((-365, 365))\n",
    "\n",
    "\n",
    "    plt.xlim(plot_min - 1, max_year + 1)\n",
    "    \n",
    "    plt.title(f'{region.label} \\n Days with observations in each year')\n",
    "    plt.show()\n",
    "\n",
    "\n",
    "plot_min = next((k for k, v in day_counts.items() if v > 0), None)\n",
    "\n",
    "relative_checkbox = widgets.Checkbox(value=False, description='Relative to reference period', indent=False)\n",
    "start_slider = widgets.IntSlider(min=1995, max=datetime.now().year - 1, step=1, value=2015)\n",
    "end_slider = widgets.IntSlider(min=1995, max=datetime.now().year - 1, step=1, value=2019)\n",
    "\n",
    "vbox1 = VBox([\n",
    "    relative_checkbox,\n",
    "    HBox([Label('Reference period start'), start_slider]),\n",
    "    HBox([Label('Reference period end'), end_slider]),\n",
    "])\n",
    "display(vbox1)\n",
    "\n",
    "w = interactive_output(days_per_year, {\"use_reference\": relative_checkbox, \"reference_start\": start_slider, \"reference_end\": end_slider, \"plot_min\": fixed(plot_min)})\n",
    "display(w)"
   ]
  },
  {
   "cell_type": "markdown",
   "id": "6ad0ffdc-9358-4999-bf50-29de889ba17d",
   "metadata": {},
   "source": [
    "## Active platforms\n",
    "Shows the number of platforms active in each year, grouped by country (based on the country code from the EXPO code)."
   ]
  },
  {
   "cell_type": "code",
   "execution_count": 67,
   "id": "af4b84e0-82f2-42f4-8de4-a6930368043f",
   "metadata": {},
   "outputs": [
    {
     "data": {
      "image/png": "[encoded data removed]",
      "text/plain": [
       "<Figure size 1200x600 with 1 Axes>"
      ]
     },
     "metadata": {},
     "output_type": "display_data"
    }
   ],
   "source": [
    "cur.execute(f\"\"\"WITH selected_region AS (\n",
    "  SELECT shape AS region_shape,\n",
    "         MbrMinX(shape) AS xmin,\n",
    "         MbrMinY(shape) AS ymin,\n",
    "         MbrMaxX(shape) AS xmax,\n",
    "         MbrMaxY(shape) AS ymax\n",
    "  FROM shapes\n",
    "  WHERE id = {region.value}\n",
    ")\n",
    "SELECT \n",
    "  s.year,\n",
    "  c.name,\n",
    "  COUNT(DISTINCT s.platform_code)\n",
    "FROM \n",
    "  socat s\n",
    "  INNER JOIN countries c ON s.country = c.code,\n",
    "  selected_region r\n",
    "WHERE\n",
    "  s.ROWID IN (\n",
    "    SELECT pkid\n",
    "    FROM idx_socat_position\n",
    "    WHERE xmin <= r.xmax\n",
    "      AND xmax >= r.xmin\n",
    "      AND ymin <= r.ymax\n",
    "      AND ymax >= r.ymin\n",
    "  )\n",
    "  AND ST_Intersects(s.position, ?)\n",
    "GROUP BY \n",
    "  s.year, c.name\n",
    "ORDER BY \n",
    "  s.year, c.name\n",
    "\"\"\", (region_select.result, ))\n",
    "\n",
    "rows = cur.fetchall()\n",
    "\n",
    "df = pd.DataFrame(rows, columns=['year', 'country', 'count'])\n",
    "\n",
    "pivot_df = df.pivot(index='year', columns='country', values='count').fillna(0)\n",
    "num_countries = pivot_df.shape[1]\n",
    "colors = matplotlib.colormaps['tab20b']\n",
    "\n",
    "pivot_df.plot(kind='bar', stacked=True, figsize=(12, 6), color=[colors(i) for i in range(num_countries)])\n",
    "\n",
    "plt.title(f'{region.label} \\n Number of active platforms')\n",
    "plt.xlabel('Year')\n",
    "plt.ylabel('Count')\n",
    "plt.legend(title='Country', bbox_to_anchor=(1, 1), loc='upper left')\n",
    "plt.tight_layout()\n",
    "plt.show()"
   ]
  },
  {
   "cell_type": "markdown",
   "id": "3393ca70-0714-45b3-8937-190808ba7ccd",
   "metadata": {},
   "source": [
    "## Shutdown"
   ]
  },
  {
   "cell_type": "code",
   "execution_count": 9,
   "id": "e90fe840-d637-49ff-9e60-025d1c642c8b",
   "metadata": {},
   "outputs": [],
   "source": [
    "cur.close()\n",
    "conn.close()"
   ]
  },
  {
   "cell_type": "markdown",
   "id": "c5430edb-3bf7-46f0-a493-8af444b0214b",
   "metadata": {},
   "source": [
    "# References\n",
    "\n",
    "When presenting output from this notebook, the following citations are required:\n",
    "\n",
    "## SOCAT\n",
    "Bakker, Dorothee C. E.; Alin, Simone R.; Aramaki, Takafumi; Barbero, Leticia; Bates, Nicholas; Gkritzalis, Thanos; Jones, Steve D.; Kozyr, Alex; Lauvset, Siv K.; Macovei, Vlad A.; Metzl, Nicolas; Munro, David R.; Nakaoka, Shin-ichiro; O’Brien, Kevin M.; Olsen, Are; Pierrot, Denis; Steinhoff, Tobias; Sullivan, Kevin F.; Sutton, Adrienne J.; Sweeney, Colm; Wada, Chisato; Wanninkhof, Rik; Akl, John; Arbilla, Lisandro A.; Azetsu-Scott, Kumiko; Battisti, Roman; Beatty, Cory M.; Becker, Meike; Benoit-Cattin, Alice; Berghoff, Carla F.; Bittig, Henry C.; Bonin, Jennifer A.; Bott, Randy; Bozzano, Roberto; Burger, Eugene F.; Brunetti, Fabio; Cantoni, Carolina; Castelli, Giuliano; Chambers, Don P.; Chierici, Melissa; Corbo, Andrea; Cronin, Margot; Cross, Jessica N.; Currie, Kim I.; Dentico, Carlotta; Emerson, Steven R.; Enochs, Ian C.; Enright, Matt P.; Enyo, Kazutaka; Ericson, Ylva; Evans, Wiley; Fay, Amanda R.; Feely, Richard A.; Fragiacomo, Elena; Fransson, Agneta; Gehrung, Martina; Giani, Michele; Glockzin, Michael; Hamnca, Siyabulela; Holodkov, Nikola; Hoppema, Mario; Ibánhez, J. Severino P.; Kadono, Koji; Kamb, Linus; Kralj, Martina; Kristensin, Tor O.; Laudicella, V. Alessandro; Lefèvre, Nathalie; Leseurre, Coraline; Lo Monaco, Claire; Maenner Jones, Stacy; Maenza, Reinaldo A.; McAuliffe, Anna M.; Mdokwana, Baxolele; Monacci, Natalie M.; Musielewicz, Sylvia; Neill, Craig; Newberger, Tim; Nojiri, Yukihiro; Ohman, Mark D.; Ólafsdóttir, Sólveig R.; Olivier, Léa; Omar, Abdirahman M.; Osborne, John; Pensieri, Sara; Petersen, Wilhelm; Plueddemann, Albert J.; Rehder, Gregor; Roden, Nicholas P.; Rutgersson, Anna; Sallée, Jean-Baptiste; Sanders, Richard; Sarpe, Dick; Schirnik, Carsten; Schlitzer, Reiner; Send, Uwe; Skjelvan, Ingunn; Sutherland, Stewart, C.; T’Jampens, Michiel; Tamsitt, Veronica; Telszewski, Maciej; Theetaert, Hannelore; Tilbrook, Bronte; Trull, Tom; Tsanwani, Mutshutshu; Van de Velde, Sebastiaan; Van Heuven, Steven M. A. C.; Veccia, Martín H.; Voynova, Yoana G.; Weller, Robert A.; Williams, Nancy L. (2025). Surface Ocean CO2 Atlas Database Version 2025 (SOCATv2025) (NCEI Accession 0304549). NOAA National Centers for Environmental Information. Dataset. [https://doi.org/10.25921/648f-fv35](https://doi.org/10.25921/648f-fv35).\n",
    "\n",
    "Bakker, D. C. E., Pfeil, B. Landa, C. S., Metzl, N., O’Brien, K. M., Olsen, A., Smith, K., Cosca, C., Harasawa, S., Jones, S. D., Nakaoka, S., Nojiri, Y., Schuster, U., Steinhoff, T., Sweeney, C., Takahashi, T., Tilbrook, B., Wada, C., Wanninkhof, R., Alin, S. R., Balestrini, C. F., Barbero, L., Bates, N. R., Bianchi, A. A., Bonou, F., Boutin, J., Bozec, Y., Burger, E. F., Cai, W.-J., Castle, R. D., Chen, L., Chierici, M., Currie, K., Evans, W., Featherstone, C., Feely, R. A., Fransson, A., Goyet, C., Greenwood, N., Gregor, L., Hankin, S., Hardman-Mountford, N. J., Harlay, J., Hauck, J., Hoppema, M., Humphreys, M. P., Hunt, C. W., Huss, B., Ibánhez, J. S. P., Johannessen, T., Keeling, R., Kitidis, V., Körtzinger, A., Kozyr, A., Krasakopoulou, E., Kuwata, A., Landschützer, P., Lauvset, S. K., Lefèvre, N., Lo Monaco, C., Manke, A., Mathis, J. T., Merlivat, L., Millero, F. J., Monteiro, P. M. S., Munro, D. R., Murata, A., Newberger, T., Omar, A. M., Ono, T., Paterson, K., Pearce, D., Pierrot, D., Robbins, L. L., Saito, S., Salisbury, J., Schlitzer, R., Schneider, B., Schweitzer, R., Sieger, R., Skjelvan, I., Sullivan, K. F., Sutherland, S. C., Sutton, A. J., Tadokoro, K., Telszewski, M., Tuma, M., Van Heuven, S. M. A. C., Vandemark, D., Ward, B., Watson, A. J., Xu, S. (2016) A multi-decade record of high quality fCO2 data in version 3 of the Surface Ocean CO2 Atlas (SOCAT). Earth System Science Data 8: 383-413. [doi:10.5194/essd-8-383-2016](https://doi.org/10.5194/essd-8-383-2016).\n",
    "\n",
    "## Regions\n",
    "\n",
    "\n",
    "## Coastal and Marginal Seas Mask\n",
    "Laruelle, G. G., Dürr, H. H., Lauerwald, R., Hartmann, J., Slomp, C. P., Goossens, N., and Regnier, P. A. G. (2013) Global multi-scale segmentation of continental and coastal waters from the watersheds to the continental margins, Hydrol. Earth Syst. Sci., 17, 2029–2051, [doi:10.5194/hess-17-2029-2013](https://doi.org/10.5194/hess-17-2029-2013).\n",
    "\n",
    "## This notebook\n",
    "???"
   ]
  },
  {
   "cell_type": "code",
   "execution_count": null,
   "id": "32095fe5-45a6-479d-8cde-0e63fbb40cea",
   "metadata": {},
   "outputs": [],
   "source": []
  }
 ],
 "metadata": {
  "kernelspec": {
   "display_name": "Python 3 (ipykernel)",
   "language": "python",
   "name": "python3"
  },
  "language_info": {
   "codemirror_mode": {
    "name": "ipython",
    "version": 3
   },
   "file_extension": ".py",
   "mimetype": "text/x-python",
   "name": "python",
   "nbconvert_exporter": "python",
   "pygments_lexer": "ipython3",
   "version": "3.12.3"
  }
 },
 "nbformat": 4,
 "nbformat_minor": 5
}
