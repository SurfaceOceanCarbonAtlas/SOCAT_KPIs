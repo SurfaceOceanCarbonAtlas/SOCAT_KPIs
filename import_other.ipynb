{
 "cells": [
  {
   "cell_type": "markdown",
   "id": "27c31881-1a0b-4cf8-a206-d893f936496b",
   "metadata": {},
   "source": [
    "# Import other information\n",
    "Add other information to the database that will be useful for queries.\n",
    "\n",
    "## Prerequisites\n",
    "This notebook assumes that you have already run the `import_socat` notebook."
   ]
  },
  {
   "cell_type": "code",
   "execution_count": 15,
   "id": "bec23f08-bf59-4d48-96d9-564e85cb7899",
   "metadata": {},
   "outputs": [],
   "source": [
    "import sqlite3\n",
    "from osgeo import ogr\n",
    "import pandas as pd\n",
    "from sqlalchemy.types import NVARCHAR\n",
    "\n",
    "DB_FILE = 'socat_kpi.sqlite'\n",
    "\n",
    "conn = sqlite3.connect(DB_FILE)\n",
    "conn.enable_load_extension(True)\n",
    "conn.load_extension(\"mod_spatialite\")\n"
   ]
  },
  {
   "cell_type": "markdown",
   "id": "94b24a17-d1df-4978-9555-7a5e4bb3505e",
   "metadata": {},
   "source": [
    "## Countries\n",
    "The first two characters of the EXPO Code are the platform's ICES country code. We add the complete list of ICES country codes for easier presentation."
   ]
  },
  {
   "cell_type": "code",
   "execution_count": 21,
   "id": "9fdbe200-1cb0-4598-8f74-5d8bf45e1862",
   "metadata": {},
   "outputs": [],
   "source": [
    "conn.execute(\"DROP TABLE IF EXISTS countries\")\n",
    "conn.commit()\n",
    "\n",
    "conn.execute(\"\"\"CREATE TABLE countries(\n",
    "code VARCHAR(5),\n",
    "name VARCHAR(100)\n",
    ")\"\"\")\n",
    "\n",
    "countries_df = pd.read_csv('ICES_Countries.tsv', sep='\\t', index_col=False)\n",
    "countries_df.to_sql('countries', conn, if_exists='append', index=False)\n",
    "\n",
    "conn.execute('CREATE INDEX countries_code ON countries(code)')\n",
    "conn.commit()\n"
   ]
  },
  {
   "cell_type": "markdown",
   "id": "4ba05453-3fbe-431b-84de-3635b4260b81",
   "metadata": {},
   "source": [
    "## Close Down"
   ]
  },
  {
   "cell_type": "code",
   "execution_count": 7,
   "id": "83eaea91-c73b-426d-b2b4-2357c28077e0",
   "metadata": {},
   "outputs": [],
   "source": [
    "conn.close()"
   ]
  },
  {
   "cell_type": "code",
   "execution_count": null,
   "id": "9d04ef5d-7375-45a3-a55f-0c8f0eac05f4",
   "metadata": {},
   "outputs": [],
   "source": []
  }
 ],
 "metadata": {
  "kernelspec": {
   "display_name": "Python 3 (ipykernel)",
   "language": "python",
   "name": "python3"
  },
  "language_info": {
   "codemirror_mode": {
    "name": "ipython",
    "version": 3
   },
   "file_extension": ".py",
   "mimetype": "text/x-python",
   "name": "python",
   "nbconvert_exporter": "python",
   "pygments_lexer": "ipython3",
   "version": "3.12.3"
  }
 },
 "nbformat": 4,
 "nbformat_minor": 5
}
