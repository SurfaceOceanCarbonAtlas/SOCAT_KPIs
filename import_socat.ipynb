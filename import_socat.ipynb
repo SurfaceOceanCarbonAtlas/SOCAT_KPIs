{
 "cells": [
  {
   "cell_type": "markdown",
   "id": "171dc3cf-c851-457d-8f7d-6f632b262a4f",
   "metadata": {},
   "source": [
    "# Import SOCAT data\n",
    "This notebook reads the contents of the main SOCAT synthesis file and created a PostGIS database ready for analysis.\n",
    "\n",
    "## Prerequisites\n",
    "You need SQLite and the SpatiaLite extension installed on your system."
   ]
  },
  {
   "cell_type": "markdown",
   "id": "cfabe179-4ec2-42e2-b8ac-d20413a623f3",
   "metadata": {},
   "source": [
    "## Setup\n",
    "Imports, constants etc."
   ]
  },
  {
   "cell_type": "code",
   "execution_count": 1,
   "id": "49294d50-c889-455d-ba03-d3833f307f60",
   "metadata": {},
   "outputs": [],
   "source": [
    "import sqlite3\n",
    "from tqdm.notebook import tqdm\n",
    "from datetime import datetime\n",
    "import re\n",
    "import os\n",
    "from io import BytesIO\n",
    "from zipfile import ZipFile\n",
    "from urllib.request import urlopen\n",
    "\n",
    "AD = ('https://socat.info/socat_files/v2025/SOCATv2025.tsv.zip', 'SOCATv2025.tsv', 'A-D Data')\n",
    "E = ('https://socat.info/socat_files/v2025/SOCATv2025_FlagE.tsv.zip', 'SOCATv2025_FlagE.tsv', 'E Data')\n",
    "\n",
    "DB_FILE = 'socat_kpi.sqlite'\n"
   ]
  },
  {
   "cell_type": "markdown",
   "id": "090d1214-8822-4774-8d46-16b8cf2a3d95",
   "metadata": {},
   "source": [
    "## Download SOCAT data\n",
    "If the `SOCAT_FILE` defined above is not present, download it."
   ]
  },
  {
   "cell_type": "code",
   "execution_count": 2,
   "id": "2e8a1bdf-8eb8-4c14-8ff1-f695a6474017",
   "metadata": {},
   "outputs": [
    {
     "name": "stdout",
     "output_type": "stream",
     "text": [
      "A-D Data already downloaded.\n",
      "\n",
      "E Data already downloaded.\n"
     ]
    }
   ],
   "source": [
    "def download_file(file_info):\n",
    "    url = file_info[0]\n",
    "    file = file_info[1]\n",
    "    description = file_info[2]\n",
    "\n",
    "    \n",
    "    if os.path.exists(file):\n",
    "        print(f'{description} already downloaded.')\n",
    "    else:\n",
    "        print(f'Downloading {description}...')\n",
    "        resp = urlopen(url)\n",
    "        myzip = ZipFile(BytesIO(resp.read()))\n",
    "        print('Extracting data...')\n",
    "        myzip.extract(file)\n",
    "        myzip.close()\n",
    "        print('Done')\n",
    "\n",
    "download_file(AD)\n",
    "print()\n",
    "download_file(E)\n"
   ]
  },
  {
   "cell_type": "markdown",
   "id": "f521536f-4ba3-49c2-84ad-95e0910ae73e",
   "metadata": {},
   "source": [
    "## Create the database\n",
    "Create the database. If a database already exists, it will be deleted."
   ]
  },
  {
   "cell_type": "code",
   "execution_count": 3,
   "id": "14c330bb-ebb2-4885-9118-74567d5c45e2",
   "metadata": {
    "scrolled": true
   },
   "outputs": [],
   "source": [
    "# Delete file if it exists\n",
    "if os.path.exists(DB_FILE):\n",
    "    os.remove(DB_FILE)\n"
   ]
  },
  {
   "cell_type": "code",
   "execution_count": 4,
   "id": "5e7ab905-b5b7-445b-a91b-a7478b45f647",
   "metadata": {},
   "outputs": [],
   "source": [
    "# Create database and initialise SpatiaLite extension\n",
    "conn = sqlite3.connect(DB_FILE)\n",
    "conn.enable_load_extension(True)\n",
    "conn.load_extension(\"mod_spatialite\")\n",
    "conn.execute('SELECT InitSpatialMetadata(1)')\n",
    "conn.commit()"
   ]
  },
  {
   "cell_type": "markdown",
   "id": "5c31f172-eeae-45ff-8cc8-bcbbb8c4070d",
   "metadata": {},
   "source": [
    "## Create SOCAT data table\n",
    "We will create the following fields:\n",
    "- Platform Code\n",
    "- Country Code (extracted from Platform Code)\n",
    "- EXPO Code\n",
    "- Timestamp\n",
    "- Year†\n",
    "- Month†\n",
    "- Day†\n",
    "- Month_Day†‡\n",
    "- Lat/Lon\n",
    "- fCO₂ value\n",
    "- fCO₂ flag\n",
    "- SOCAT flag (A-E)\n",
    "\n",
    "† Useful for generating stats\n",
    "\n",
    "‡ Combined month and day"
   ]
  },
  {
   "cell_type": "code",
   "execution_count": 5,
   "id": "ab7f7ce1-9fcc-4a08-9c30-adfe65a26792",
   "metadata": {},
   "outputs": [],
   "source": [
    "conn.execute(\"\"\"CREATE TABLE socat(\n",
    "id bigserial primary key,\n",
    "platform_code varchar(5),\n",
    "country varchar(2),\n",
    "expocode varchar(20),\n",
    "time timestamp,\n",
    "year int,\n",
    "month int,\n",
    "day int,\n",
    "month_day int,\n",
    "position POINT,\n",
    "fco2 float,\n",
    "fco2_flag integer,\n",
    "socat_flag varchar(1)\n",
    ");\"\"\")\n",
    "conn.commit()\n",
    "\n",
    "conn.execute('SELECT RecoverGeometryColumn(\"socat\", \"position\", 4326, \"POINT\", \"XY\")')\n",
    "conn.commit()"
   ]
  },
  {
   "cell_type": "markdown",
   "id": "06036e8f-6b1d-4f83-a3c9-d654f488834d",
   "metadata": {},
   "source": [
    "## Locate the data in the SOCAT file and load it into the database"
   ]
  },
  {
   "cell_type": "code",
   "execution_count": 6,
   "id": "c98d69ef-f4ec-4cf4-adf2-8fe1e6373e49",
   "metadata": {},
   "outputs": [
    {
     "name": "stdout",
     "output_type": "stream",
     "text": [
      "Loading A-D Data...\n"
     ]
    },
    {
     "data": {
      "application/vnd.jupyter.widget-view+json": {
       "model_id": "a25413cfd1744dcea71556a29bc40eb6",
       "version_major": 2,
       "version_minor": 0
      },
      "text/plain": [
       "  0%|          | 0/41387663 [00:00<?, ?it/s]"
      ]
     },
     "metadata": {},
     "output_type": "display_data"
    },
    {
     "name": "stdout",
     "output_type": "stream",
     "text": [
      "Loading E Data...\n"
     ]
    },
    {
     "data": {
      "application/vnd.jupyter.widget-view+json": {
       "model_id": "df293e2c48c64e8d83bfdbbf7ec30a3e",
       "version_major": 2,
       "version_minor": 0
      },
      "text/plain": [
       "  0%|          | 0/8210291 [00:00<?, ?it/s]"
      ]
     },
     "metadata": {},
     "output_type": "display_data"
    }
   ],
   "source": [
    "def load_data(file_info):\n",
    "    file = file_info[1]\n",
    "    description = file_info[2]\n",
    "\n",
    "    # Work out the line count for the progress bar\n",
    "    print(f'Loading {description}...')\n",
    "    \n",
    "    with open(file, 'rb') as f:\n",
    "        line_count = sum(1 for _ in f)\n",
    "    \n",
    "    f = open(file)\n",
    "    \n",
    "    with tqdm(total=line_count) as progress:\n",
    "        \n",
    "        # The header is large, and needs to be skipped programatically.\n",
    "        # We can do this by finding three instances of the work 'Expocode':\n",
    "        # the data begins immediately after the third instance.\n",
    "        expocode_count = 0\n",
    "        while expocode_count < 3:\n",
    "            line = f.readline()\n",
    "            if line.startswith('Expocode'):\n",
    "                expocode_count += 1\n",
    "            progress.update()\n",
    "            \n",
    "        line = f.readline()\n",
    "        record_count = 0\n",
    "        progress.update()\n",
    "        while line != '':\n",
    "            fields = line.split('\\t')\n",
    "            expocode = fields[0]\n",
    "            if '-' in expocode:\n",
    "                platform_code = re.search('(.*)\\\\d{8}-\\\\d$', expocode)[1]\n",
    "            else:\n",
    "                platform_code = re.search('(.*)\\\\d{8}$', expocode)[1]\n",
    "    \n",
    "            country = platform_code[0:2]\n",
    "    \n",
    "            seconds = int(fields[9][0:2])\n",
    "            if seconds > 59:\n",
    "                seconds = 59\n",
    "            timestamp = datetime(int(fields[4]), int(fields[5]), int(fields[6]), int(fields[7]), int(fields[8]), seconds)\n",
    "            month_day = int(fields[5]) * 100 + int(fields[6])\n",
    "            fco2 = float(fields[29])\n",
    "            fco2_flag = int(fields[31])\n",
    "            socat_flag = fields[3]\n",
    "    \n",
    "            lon = float(fields[10])\n",
    "            if lon > 180:\n",
    "                lon = (360 - lon) * -1\n",
    "            \n",
    "            conn.execute(f\"\"\"INSERT INTO socat (platform_code, country, expocode, time, year, month, day, month_day, position, fco2, fco2_flag, socat_flag) VALUES \n",
    "            ('{platform_code}', '{country}', '{expocode}', '{timestamp}', {int(fields[4])}, {int(fields[5])}, {int(fields[6])}, {month_day}, ST_GeomFromText('POINT({lon} {float(fields[11])})', 4326), '{fco2}', '{fco2_flag}', '{socat_flag}')\"\"\")\n",
    "    \n",
    "            record_count += 1\n",
    "    \n",
    "            progress.update()\n",
    "            line = f.readline()\n",
    "\n",
    "    conn.commit()        \n",
    "    f.close()\n",
    "\n",
    "load_data(AD)\n",
    "load_data(E)"
   ]
  },
  {
   "cell_type": "markdown",
   "id": "c868c843-9865-4a7d-94cc-6ebd061b6ff2",
   "metadata": {},
   "source": [
    "## Create index\n",
    "Create a spatial index to speed up searches"
   ]
  },
  {
   "cell_type": "code",
   "execution_count": 7,
   "id": "50f652bb-4961-494e-8873-0fafe6f8f889",
   "metadata": {},
   "outputs": [
    {
     "name": "stdout",
     "output_type": "stream",
     "text": [
      "Creating indexes (approx. 5 min)...\n",
      "Points\n",
      "Year\n",
      "Month\n",
      "Month/Day combined\n",
      "Platform code\n",
      "Country\n",
      "SOCAT Flag\n",
      "Done\n",
      "CPU times: user 7min 6s, sys: 1min 10s, total: 8min 17s\n",
      "Wall time: 8min 38s\n"
     ]
    }
   ],
   "source": [
    "print('Creating indexes (approx. 10 min)...')\n",
    "print('Points')\n",
    "conn.execute('SELECT CreateSpatialIndex(\\\"socat\\\", \\\"position\\\")')\n",
    "print('Year')\n",
    "conn.execute('CREATE INDEX idx_socat_year ON socat(year)')\n",
    "print('Month')\n",
    "conn.execute('CREATE INDEX idx_socat_month ON socat(month)')\n",
    "print('Month/Day combined')\n",
    "conn.execute('CREATE INDEX idx_socat_monthday ON socat(month_day)')\n",
    "print('Platform code')\n",
    "conn.execute('CREATE INDEX idx_socat_platformcode ON socat(platform_code)')\n",
    "print('Country')\n",
    "conn.execute('CREATE INDEX idx_socat_country ON socat(country)')\n",
    "print('SOCAT Flag')\n",
    "conn.execute('CREATE INDEX idx_socat_socatflag ON socat(socat_flag)')\n",
    "print('Done')\n",
    "conn.commit()"
   ]
  },
  {
   "cell_type": "markdown",
   "id": "7464d1d5-c1f7-4750-b9c9-0f6a2383ce18",
   "metadata": {},
   "source": [
    "## Close everything down"
   ]
  },
  {
   "cell_type": "code",
   "execution_count": 33,
   "id": "959f0e2e-119d-4ac3-a71b-e7e1cf2e6bb0",
   "metadata": {},
   "outputs": [],
   "source": [
    "conn.close()"
   ]
  },
  {
   "cell_type": "code",
   "execution_count": null,
   "id": "8abd4398-fe63-443f-8018-b98e38baa432",
   "metadata": {},
   "outputs": [],
   "source": []
  }
 ],
 "metadata": {
  "kernelspec": {
   "display_name": "Python 3 (ipykernel)",
   "language": "python",
   "name": "python3"
  },
  "language_info": {
   "codemirror_mode": {
    "name": "ipython",
    "version": 3
   },
   "file_extension": ".py",
   "mimetype": "text/x-python",
   "name": "python",
   "nbconvert_exporter": "python",
   "pygments_lexer": "ipython3",
   "version": "3.12.3"
  }
 },
 "nbformat": 4,
 "nbformat_minor": 5
}
