{
 "cells": [
  {
   "cell_type": "markdown",
   "id": "171dc3cf-c851-457d-8f7d-6f632b262a4f",
   "metadata": {},
   "source": [
    "# Import SOCAT data\n",
    "This notebook reads the contents of the main SOCAT synthesis file and created a PostGIS database ready for analysis.\n",
    "\n",
    "## Prerequisites\n",
    "This notebook assumes that you have created a PostgreSQL database with the PostGIS extension installed:\n",
    "- `CREATE DATABASE socat_kpi;`\n",
    "- `CREATE EXTENSION postgis;`"
   ]
  },
  {
   "cell_type": "markdown",
   "id": "cfabe179-4ec2-42e2-b8ac-d20413a623f3",
   "metadata": {},
   "source": [
    "## Setup\n",
    "Imports, constants etc."
   ]
  },
  {
   "cell_type": "code",
   "execution_count": 27,
   "id": "49294d50-c889-455d-ba03-d3833f307f60",
   "metadata": {},
   "outputs": [],
   "source": [
    "import psycopg2\n",
    "from tqdm.notebook import tqdm\n",
    "from datetime import datetime\n",
    "import re\n",
    "import os\n",
    "from io import BytesIO\n",
    "from zipfile import ZipFile\n",
    "from urllib.request import urlopen\n",
    "\n",
    "\n",
    "SOCAT_ZIP_URL = 'https://socat.info/socat_files/v2025/SOCATv2025.tsv.zip'\n",
    "SOCAT_FILE = 'SOCATv2025.tsv'\n",
    "\n",
    "DB_HOST = 'localhost'\n",
    "DB_USER = 'postgres'\n",
    "DB_PASSWORD = 'postgres'\n",
    "DB_NAME = 'socat_kpi'"
   ]
  },
  {
   "cell_type": "markdown",
   "id": "090d1214-8822-4774-8d46-16b8cf2a3d95",
   "metadata": {},
   "source": [
    "## Download SOCAT data\n",
    "If the `SOCAT_FILE` defined above is not present, download it."
   ]
  },
  {
   "cell_type": "code",
   "execution_count": 28,
   "id": "2e8a1bdf-8eb8-4c14-8ff1-f695a6474017",
   "metadata": {},
   "outputs": [
    {
     "name": "stdout",
     "output_type": "stream",
     "text": [
      "SOCAT already downloaded.\n"
     ]
    }
   ],
   "source": [
    "if os.path.exists(SOCAT_FILE):\n",
    "    print('SOCAT already downloaded.')\n",
    "else:\n",
    "    print('Downloading SOCAT...')\n",
    "    resp = urlopen(SOCAT_ZIP_URL)\n",
    "    myzip = ZipFile(BytesIO(resp.read()))\n",
    "    print('Extracting data...')\n",
    "    myzip.extract(SOCAT_FILE)\n",
    "    myzip.close()\n",
    "    print('Done')\n"
   ]
  },
  {
   "cell_type": "markdown",
   "id": "f521536f-4ba3-49c2-84ad-95e0910ae73e",
   "metadata": {},
   "source": [
    "## Connect to database\n",
    "Connect to the database and delete any existing tables."
   ]
  },
  {
   "cell_type": "code",
   "execution_count": 20,
   "id": "14c330bb-ebb2-4885-9118-74567d5c45e2",
   "metadata": {},
   "outputs": [],
   "source": [
    "conn = psycopg2.connect(database = DB_NAME, \n",
    "                        user = DB_USER, \n",
    "                        host= DB_HOST,\n",
    "                        password = DB_PASSWORD)\n",
    "\n",
    "cur = conn.cursor()"
   ]
  },
  {
   "cell_type": "markdown",
   "id": "d247b8a7-fb89-45cf-b54a-550d0325f52f",
   "metadata": {},
   "source": [
    "## Kill the old table"
   ]
  },
  {
   "cell_type": "code",
   "execution_count": 21,
   "id": "5b109356-995f-4dd8-a540-7e80c5a5de48",
   "metadata": {},
   "outputs": [],
   "source": [
    "cur.execute(\"DROP TABLE IF EXISTS socat\")\n",
    "conn.commit()"
   ]
  },
  {
   "cell_type": "markdown",
   "id": "5c31f172-eeae-45ff-8cc8-bcbbb8c4070d",
   "metadata": {},
   "source": [
    "## Create SOCAT data table\n",
    "We will create the following fields:\n",
    "- Platform Code\n",
    "- EXPO Code\n",
    "- Timestamp\n",
    "- Year†\n",
    "- Month†\n",
    "- Day†\n",
    "- Lat/Lon\n",
    "- fCO₂ value\n",
    "- fCO₂ flag\n",
    "\n",
    "† Useful for generating stats"
   ]
  },
  {
   "cell_type": "code",
   "execution_count": 22,
   "id": "ab7f7ce1-9fcc-4a08-9c30-adfe65a26792",
   "metadata": {},
   "outputs": [],
   "source": [
    "cur.execute(\"\"\"CREATE TABLE socat(\n",
    "id bigserial primary key,\n",
    "platform_code text,\n",
    "expocode text,\n",
    "time timestamp,\n",
    "year int,\n",
    "month int,\n",
    "day int,\n",
    "position geometry(Point, 4326),\n",
    "fco2 float,\n",
    "fco2_flag integer\n",
    ");\"\"\")\n",
    "conn.commit()"
   ]
  },
  {
   "cell_type": "markdown",
   "id": "06036e8f-6b1d-4f83-a3c9-d654f488834d",
   "metadata": {},
   "source": [
    "## Locate the data in the SOCAT file\n",
    "We skip the header. There are 3 lines starting with `Expocode` before the data starts. (The last is the column header line, but we don't need it.)"
   ]
  },
  {
   "cell_type": "code",
   "execution_count": 24,
   "id": "c98d69ef-f4ec-4cf4-adf2-8fe1e6373e49",
   "metadata": {},
   "outputs": [
    {
     "data": {
      "application/vnd.jupyter.widget-view+json": {
       "model_id": "86c37d9977844640bdaf3aa084da1d2e",
       "version_major": 2,
       "version_minor": 0
      },
      "text/plain": [
       "  0%|          | 0/41387663 [00:00<?, ?it/s]"
      ]
     },
     "metadata": {},
     "output_type": "display_data"
    }
   ],
   "source": [
    "with open(SOCAT_FILE, 'rb') as f:\n",
    "    line_count = sum(1 for _ in f)\n",
    "\n",
    "f = open(SOCAT_FILE)\n",
    "\n",
    "with tqdm(total=line_count) as progress:\n",
    "    expocode_count = 0\n",
    "    while expocode_count < 3:\n",
    "        line = f.readline()\n",
    "        if line.startswith('Expocode'):\n",
    "            expocode_count += 1\n",
    "        progress.update()\n",
    "        \n",
    "    line = f.readline()\n",
    "    record_count = 0\n",
    "    progress.update()\n",
    "    while line != '':\n",
    "        fields = line.split('\\t')\n",
    "        expocode = fields[0]\n",
    "        if '-' in expocode:\n",
    "            platform_code = re.search('(.*)\\\\d{8}-\\\\d$', expocode)[1]\n",
    "        else:\n",
    "            platform_code = re.search('(.*)\\\\d{8}$', expocode)[1]\n",
    "\n",
    "        seconds = int(fields[9][0:2])\n",
    "        if seconds > 59:\n",
    "            seconds = 59\n",
    "        timestamp = datetime(int(fields[4]), int(fields[5]), int(fields[6]), int(fields[7]), int(fields[8]), seconds)\n",
    "        fco2 = float(fields[29])\n",
    "        fco2_flag = int(fields[31])\n",
    "\n",
    "        lon = float(fields[10])\n",
    "        if lon > 180:\n",
    "            lon = (360 - lon) * -1\n",
    "        \n",
    "        cur.execute(f\"\"\"INSERT INTO socat (platform_code, expocode, time, year, month, day, position, fco2, fco2_flag) VALUES \n",
    "        ('{platform_code}', '{expocode}', '{timestamp}', {int(fields[4])}, {int(fields[5])}, {int(fields[6])}, ST_GeomFromText('POINT({lon} {float(fields[11])})', 4326), '{fco2}', '{fco2_flag}')\"\"\")\n",
    "\n",
    "        record_count += 1\n",
    "        if record_count % 10000 == 0:\n",
    "            conn.commit()\n",
    "\n",
    "        progress.update()\n",
    "        line = f.readline()\n",
    "        \n",
    "conn.commit()"
   ]
  },
  {
   "cell_type": "markdown",
   "id": "c868c843-9865-4a7d-94cc-6ebd061b6ff2",
   "metadata": {},
   "source": [
    "## Create index\n",
    "Create a spatial index to speed up searches"
   ]
  },
  {
   "cell_type": "code",
   "execution_count": 25,
   "id": "50f652bb-4961-494e-8873-0fafe6f8f889",
   "metadata": {},
   "outputs": [],
   "source": [
    "cur.execute('CREATE INDEX socat_points_idx ON socat USING GIST(position)')\n",
    "conn.commit()"
   ]
  },
  {
   "cell_type": "markdown",
   "id": "7464d1d5-c1f7-4750-b9c9-0f6a2383ce18",
   "metadata": {},
   "source": [
    "## Close everything down"
   ]
  },
  {
   "cell_type": "code",
   "execution_count": 26,
   "id": "959f0e2e-119d-4ac3-a71b-e7e1cf2e6bb0",
   "metadata": {},
   "outputs": [],
   "source": [
    "f.close()\n",
    "cur.close()\n",
    "conn.close()"
   ]
  },
  {
   "cell_type": "code",
   "execution_count": null,
   "id": "8abd4398-fe63-443f-8018-b98e38baa432",
   "metadata": {},
   "outputs": [],
   "source": []
  }
 ],
 "metadata": {
  "kernelspec": {
   "display_name": "Python 3 (ipykernel)",
   "language": "python",
   "name": "python3"
  },
  "language_info": {
   "codemirror_mode": {
    "name": "ipython",
    "version": 3
   },
   "file_extension": ".py",
   "mimetype": "text/x-python",
   "name": "python",
   "nbconvert_exporter": "python",
   "pygments_lexer": "ipython3",
   "version": "3.12.3"
  }
 },
 "nbformat": 4,
 "nbformat_minor": 5
}
