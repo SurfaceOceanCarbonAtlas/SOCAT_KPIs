{
 "cells": [
  {
   "cell_type": "markdown",
   "id": "b3d34a16-c94d-4a39-9187-1870611b6397",
   "metadata": {},
   "source": [
    "# Import regions\n",
    "This notebook creates a table for holding polygon shapes. These shapes can then be used to generate statistics in regions specified by those polygons.\n",
    "\n",
    "## Prerequisites\n",
    "This notebook assumes that you have already run the `import_socat` notebook."
   ]
  },
  {
   "cell_type": "markdown",
   "id": "c404d5bc-fb26-4d1f-8c58-a21673e1493a",
   "metadata": {},
   "source": [
    "## Setup\n",
    "Imports, constants etc."
   ]
  },
  {
   "cell_type": "code",
   "execution_count": 5,
   "id": "90b56636-fd05-4f95-9be6-0121fe8469f2",
   "metadata": {},
   "outputs": [],
   "source": [
    "import sqlite3\n",
    "from osgeo import ogr\n",
    "\n",
    "DB_FILE = 'socat_kpi.sqlite'"
   ]
  },
  {
   "cell_type": "markdown",
   "id": "1e9c2223-19e4-4fef-bd6b-2d857ead4f62",
   "metadata": {},
   "source": [
    "## Connect to database and Clean\n",
    "Connect to the database and delete any existing tables."
   ]
  },
  {
   "cell_type": "code",
   "execution_count": 6,
   "id": "548ceb0f-6b16-4f02-ab22-5b92dac96400",
   "metadata": {},
   "outputs": [],
   "source": [
    "conn = sqlite3.connect(DB_FILE)\n",
    "conn.enable_load_extension(True)\n",
    "conn.load_extension(\"mod_spatialite\")\n",
    "\n",
    "try:\n",
    "    conn.execute(\"SELECT DisableSpatialIndex('shapes', 'shape')\")\n",
    "except Exception as e:\n",
    "    pass\n",
    "    \n",
    "conn.execute(\"DROP TABLE IF EXISTS shapes\")\n",
    "conn.commit()"
   ]
  },
  {
   "cell_type": "markdown",
   "id": "d5dca5a4-70c0-4fdf-9204-0d3b26c86a23",
   "metadata": {},
   "source": [
    "## Create the Regions table\n",
    "This table will contain the following fields:\n",
    "\n",
    "| Field    | Description                        |\n",
    "|----------|------------------------------------|\n",
    "| `source` | The entity that defined the region |\n",
    "| `name`   | The name of the region             |\n",
    "| `shape`  | The polygon defining the region    |\n",
    "\n",
    "Each record in the table will contain a single polygon."
   ]
  },
  {
   "cell_type": "code",
   "execution_count": 7,
   "id": "36fed2c6-7d54-44de-b14a-212081a8ebd8",
   "metadata": {},
   "outputs": [],
   "source": [
    "conn.execute(\"\"\"CREATE TABLE shapes(\n",
    "id integer primary key,\n",
    "source varchar(100),\n",
    "name varchar(100),\n",
    "shape MULTIPOLYGON\n",
    ");\"\"\")\n",
    "\n",
    "conn.execute('SELECT RecoverGeometryColumn(\"shapes\", \"shape\", 4326, \"MULTIPOLYGON\", \"XY\")')\n",
    "\n",
    "conn.commit()"
   ]
  },
  {
   "cell_type": "markdown",
   "id": "1338713f-fe3c-4c2a-84a9-147dda07037b",
   "metadata": {},
   "source": [
    "## Import single-polygon files\n",
    "This cell can be used to import files containing single polygons.\n",
    "\n",
    "Specify the list of files in `POLY_FILES`, which is an array of arrays. Each sub-array should contain `[filename, source, name]`.\n",
    "\n",
    "The import logic is adapted from [Importing shapefile to PostGIS using Python and ogr](https://gis.stackexchange.com/questions/90085/importing-shapefile-to-postgis-using-python-and-ogr)."
   ]
  },
  {
   "cell_type": "code",
   "execution_count": 9,
   "id": "75b1f5bd-e237-49e4-acf7-de648601ff3f",
   "metadata": {
    "scrolled": true
   },
   "outputs": [],
   "source": [
    "POLY_FILES = [\n",
    "    ['shapes/ospar_regions/ArcticWaters.shp', 'OSPAR', 'Arctic Waters'],\n",
    "    ['shapes/ospar_regions/GreaterNorthSea.shp', 'OSPAR', 'Greater North Sea'],\n",
    "    ['shapes/ospar_regions/CelticSeas.shp', 'OSPAR', 'Celtic Seas'],\n",
    "    ['shapes/ospar_regions/BiscayIberia.shp', 'OSPAR', 'Bay of Biscay and Iberian Coast'],\n",
    "    ['shapes/ospar_regions/WiderAtlantic.shp', 'OSPAR', 'Wider Atlantic'],\n",
    "    ['shapes/my_regions/Baltic.shp', 'N/A', 'Baltic'],\n",
    "    ['shapes/my_regions/Mediterranean.shp', 'N/A', 'Mediterranean']\n",
    "]\n",
    "\n",
    "for p in POLY_FILES:\n",
    "    shapefile = ogr.Open(p[0])    \n",
    "    layer = shapefile.GetLayer(0)    \n",
    "    feature = layer.GetFeature(0)\n",
    "    wkt = feature.GetGeometryRef().ExportToWkt()\n",
    "    conn.execute(f\"INSERT INTO shapes (source, name, shape) VALUES ('{p[1]}', '{p[2]}', CastToMultiPolygon(ST_GeometryFromText('{wkt}', 4326)))\")\n",
    "    conn.commit()\n"
   ]
  },
  {
   "cell_type": "markdown",
   "id": "4011e6c6-df88-4c1d-810a-dd6c4e6af240",
   "metadata": {},
   "source": [
    "## CCAMLR Regions\n",
    "Another example of regions around the Southern Ocean. One of the entries in this shapefile is a MULTIPOLYGON. For now I'm just ignoring it."
   ]
  },
  {
   "cell_type": "code",
   "execution_count": 10,
   "id": "5b71477d-8de9-4682-b01e-ade234a0b6c4",
   "metadata": {},
   "outputs": [],
   "source": [
    "shapefile = ogr.Open('shapes/CCAMLR/asd/CCAMLR_ASD_EPSG4326.shp')\n",
    "layer = shapefile.GetLayer(0)\n",
    "\n",
    "feature = layer.GetNextFeature()\n",
    "while feature is not None:\n",
    "    geometry = feature.GetGeometryRef()\n",
    "    if geometry.GetGeometryType() == ogr.wkbPolygon:\n",
    "        wkt = feature.GetGeometryRef().ExportToWkt()\n",
    "        conn.execute(f\"INSERT INTO shapes (source, name, shape) VALUES ('CCAMLR', '{feature.GAR_Name}', CastToMultiPolygon(ST_GeometryFromText('{wkt}', 4326)))\")\n",
    "    feature = layer.GetNextFeature()\n",
    "conn.commit()\n"
   ]
  },
  {
   "cell_type": "markdown",
   "id": "42ff148f-39af-4456-87ac-752c6f695109",
   "metadata": {},
   "source": [
    "## Create Index\n",
    "Speed is king"
   ]
  },
  {
   "cell_type": "code",
   "execution_count": 11,
   "id": "8a88bae3-4ab4-4663-a315-40c9c6070748",
   "metadata": {},
   "outputs": [
    {
     "name": "stderr",
     "output_type": "stream",
     "text": [
      "updateTableTriggers: \"table \"idx_shapes_shape\" already exists\"\n"
     ]
    }
   ],
   "source": [
    "conn.execute('SELECT CreateSpatialIndex(\"shapes\", \"shape\")')\n",
    "conn.commit()"
   ]
  },
  {
   "cell_type": "markdown",
   "id": "34359121-b4a5-42c8-bffe-82d423d2c4ce",
   "metadata": {},
   "source": [
    "## Close everything down"
   ]
  },
  {
   "cell_type": "code",
   "execution_count": 7,
   "id": "5b50c5af-361d-465c-9990-4393b9dcdd69",
   "metadata": {},
   "outputs": [],
   "source": [
    "conn.close()"
   ]
  },
  {
   "cell_type": "code",
   "execution_count": null,
   "id": "d474aedd-b5e8-47de-a15a-a79a4f48b8b7",
   "metadata": {},
   "outputs": [],
   "source": []
  }
 ],
 "metadata": {
  "kernelspec": {
   "display_name": "Python 3 (ipykernel)",
   "language": "python",
   "name": "python3"
  },
  "language_info": {
   "codemirror_mode": {
    "name": "ipython",
    "version": 3
   },
   "file_extension": ".py",
   "mimetype": "text/x-python",
   "name": "python",
   "nbconvert_exporter": "python",
   "pygments_lexer": "ipython3",
   "version": "3.12.3"
  }
 },
 "nbformat": 4,
 "nbformat_minor": 5
}
